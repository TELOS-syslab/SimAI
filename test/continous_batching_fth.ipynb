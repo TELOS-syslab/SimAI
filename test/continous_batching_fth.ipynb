{
 "cells": [
  {
   "cell_type": "code",
   "execution_count": null,
   "metadata": {},
   "outputs": [],
   "source": [
    "def _run_engine(self, use_tqdm: bool) -> List[RequestOutput]:  # 定义_run_engine函数，输入参数use_tqdm决定是否使用进度条\n",
    "    # Initialize tqdm.  # 初始化tqdm进度条\n",
    "    if use_tqdm:  # 如果使用tqdm\n",
    "        num_requests = self.llm_engine.get_num_unfinished_requests()  # 获取未完成请求的数量\n",
    "        pbar = tqdm(total=num_requests, desc=\"Processed prompts\")  # 创建tqdm进度条对象，设置总数和描述\n",
    "    # Run the engine.  # 运行引擎\n",
    "    outputs: List[RequestOutput] = []  # 初始化输出列表，存储每个请求的输出\n",
    "    while self.llm_engine.has_unfinished_requests():  # 当引擎中还有未完成的请求\n",
    "        step_outputs = self.llm_engine.step()  # 进行一步处理，获取本次步骤的输出\n",
    "        for output in step_outputs:  # 遍历本次步骤的每个输出\n",
    "            if output.finished:  # 如果输出已完成\n",
    "                outputs.append(output)  # 将输出添加到输出列表中\n",
    "                if use_tqdm:  # 如果使用tqdm\n",
    "                    pbar.update(1)  # 更新进度条\n",
    "    if use_tqdm:  # 如果使用tqdm\n",
    "        pbar.close()  # 关闭进度条\n",
    "    # Sort the outputs by request ID.  # 根据请求ID对输出进行排序\n",
    "    # This is necessary because some requests may be finished earlier than its previous requests.  # 这是必要的，因为某些请求可能比前面的请求更早完成\n",
    "    outputs = sorted(outputs, key=lambda x: int(x.request_id))  # 按请求ID排序输出\n",
    "    return outputs  # 返回排序后的输出\n"
   ]
  }
 ],
 "metadata": {
  "kernelspec": {
   "display_name": "splitwise-sim",
   "language": "python",
   "name": "python3"
  },
  "language_info": {
   "name": "python",
   "version": "3.11.10"
  }
 },
 "nbformat": 4,
 "nbformat_minor": 2
}
